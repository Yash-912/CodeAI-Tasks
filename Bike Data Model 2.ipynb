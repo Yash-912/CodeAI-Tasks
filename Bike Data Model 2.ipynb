{
 "cells": [
  {
   "cell_type": "code",
   "execution_count": 12,
   "id": "4a7799ef-8c4c-44e9-95f7-e474a17c8c6b",
   "metadata": {},
   "outputs": [],
   "source": [
    "#importing libraries for Data Manipulation and Machine Learning Model and Evaluation\n",
    "import pandas as pd\n",
    "import numpy as np\n",
    "\n",
    "from sklearn.linear_model import LinearRegression\n",
    "from sklearn.model_selection import train_test_split, cross_val_score, KFold\n",
    "from sklearn.metrics import mean_absolute_error, mean_squared_error, r2_score\n",
    "from sklearn.preprocessing import StandardScaler"
   ]
  },
  {
   "cell_type": "code",
   "execution_count": 4,
   "id": "0df4b724-8418-4535-b9bc-d8f5e4383678",
   "metadata": {},
   "outputs": [
    {
     "name": "stdout",
     "output_type": "stream",
     "text": [
      "   instant     dteday  season  yr  mnth  holiday  weekday  workingday  \\\n",
      "0        1 2011-01-01       1   0     1        0        6           0   \n",
      "1        2 2011-01-02       1   0     1        0        0           0   \n",
      "2        3 2011-01-03       1   0     1        0        1           1   \n",
      "3        4 2011-01-04       1   0     1        0        2           1   \n",
      "4        5 2011-01-05       1   0     1        0        3           1   \n",
      "\n",
      "   weathersit      temp     atemp       hum  windspeed  casual  registered  \\\n",
      "0           2  0.344167  0.363625  0.805833   0.160446     331         654   \n",
      "1           2  0.363478  0.353739  0.696087   0.248539     131         670   \n",
      "2           1  0.196364  0.189405  0.437273   0.248309     120        1229   \n",
      "3           1  0.200000  0.212122  0.590435   0.160296     108        1454   \n",
      "4           1  0.226957  0.229270  0.436957   0.186900      82        1518   \n",
      "\n",
      "    cnt  \n",
      "0   985  \n",
      "1   801  \n",
      "2  1349  \n",
      "3  1562  \n",
      "4  1600  \n",
      "<class 'pandas.core.frame.DataFrame'>\n",
      "RangeIndex: 731 entries, 0 to 730\n",
      "Data columns (total 16 columns):\n",
      " #   Column      Non-Null Count  Dtype         \n",
      "---  ------      --------------  -----         \n",
      " 0   instant     731 non-null    int64         \n",
      " 1   dteday      731 non-null    datetime64[ns]\n",
      " 2   season      731 non-null    int64         \n",
      " 3   yr          731 non-null    int64         \n",
      " 4   mnth        731 non-null    int64         \n",
      " 5   holiday     731 non-null    int64         \n",
      " 6   weekday     731 non-null    int64         \n",
      " 7   workingday  731 non-null    int64         \n",
      " 8   weathersit  731 non-null    int64         \n",
      " 9   temp        731 non-null    float64       \n",
      " 10  atemp       731 non-null    float64       \n",
      " 11  hum         731 non-null    float64       \n",
      " 12  windspeed   731 non-null    float64       \n",
      " 13  casual      731 non-null    int64         \n",
      " 14  registered  731 non-null    int64         \n",
      " 15  cnt         731 non-null    int64         \n",
      "dtypes: datetime64[ns](1), float64(4), int64(11)\n",
      "memory usage: 91.5 KB\n",
      "instant       0\n",
      "dteday        0\n",
      "season        0\n",
      "yr            0\n",
      "mnth          0\n",
      "holiday       0\n",
      "weekday       0\n",
      "workingday    0\n",
      "weathersit    0\n",
      "temp          0\n",
      "atemp         0\n",
      "hum           0\n",
      "windspeed     0\n",
      "casual        0\n",
      "registered    0\n",
      "cnt           0\n",
      "dtype: int64\n"
     ]
    }
   ],
   "source": [
    "#loading data from Excel File\n",
    "try:\n",
    "    df = pd.read_excel('day.xlsx')\n",
    "except FileNotFoundError:\n",
    "    print(\"Error: 'day.csv' not found. Please place the dataset file in the correct directory.\")\n",
    "    \n",
    "if not df.empty:\n",
    "    print(df.head()) # Gives first 5 entries \n",
    "    df.info() #provides Data Information \n",
    "    print(df.isnull().sum()) #counts no of Null entries "
   ]
  },
  {
   "cell_type": "code",
   "execution_count": 5,
   "id": "d2c9938c-707b-4a68-99ba-cc92ef0fc032",
   "metadata": {},
   "outputs": [
    {
     "name": "stdout",
     "output_type": "stream",
     "text": [
      "['yr', 'holiday', 'workingday', 'temp', 'atemp', 'hum', 'windspeed', 'cnt', 'season_2', 'season_3', 'season_4', 'mnth_2', 'mnth_3', 'mnth_4', 'mnth_5', 'mnth_6', 'mnth_7', 'mnth_8', 'mnth_9', 'mnth_10', 'mnth_11', 'mnth_12', 'weekday_1', 'weekday_2', 'weekday_3', 'weekday_4', 'weekday_5', 'weekday_6', 'weathersit_2', 'weathersit_3']\n"
     ]
    }
   ],
   "source": [
    "if not df.empty: #checks if dataset is not empty\n",
    "    #convert 'dteday' to datetime\n",
    "    df['dteday'] = pd.to_datetime(df['dteday'])\n",
    "    df_processed = df.drop(columns=['instant', 'dteday', 'casual', 'registered'])\n",
    "    \n",
    "    categorical_features = ['season', 'mnth', 'weekday', 'weathersit']\n",
    "    df_processed = pd.get_dummies(df_processed, columns=categorical_features, drop_first=True)\n",
    "    print(df_processed.columns.tolist())"
   ]
  },
  {
   "cell_type": "code",
   "execution_count": 7,
   "id": "958d1b5c-9fd7-4250-b228-6e14d5ceaa7a",
   "metadata": {},
   "outputs": [],
   "source": [
    "if not df_processed.empty:\n",
    "    #defining features and target\n",
    "    X = df_processed.drop('cnt', axis=1)\n",
    "    y = df_processed['cnt']\n",
    "    #scale the features \n",
    "    scaler = StandardScaler()\n",
    "    X_scaled = scaler.fit_transform(X)\n",
    "    #split data into two parts (80,20) for training and testing    \n",
    "    X_train, X_test, y_train, y_test = train_test_split(X_scaled, y, test_size=0.2, random_state=42)"
   ]
  },
  {
   "cell_type": "code",
   "execution_count": 8,
   "id": "98833c1f-fc73-4d63-b7df-53185cf38d0f",
   "metadata": {},
   "outputs": [
    {
     "name": "stdout",
     "output_type": "stream",
     "text": [
      "Linear Regression Model Results: \n",
      "Mean Absolute Error: 584.85\n",
      "Mean Squared Error: 647015.48\n",
      "R-Squared: 0.839\n"
     ]
    }
   ],
   "source": [
    "if not df_processed.empty:\n",
    "    #initialize the model\n",
    "    lr_model= LinearRegression()\n",
    "    #train the model\n",
    "    lr_model.fit(X_train, y_train)\n",
    "    #making the predcitions\n",
    "    y_pred=lr_model.predict(X_test)\n",
    "\n",
    "    #evaluating performance\n",
    "    mae=mean_absolute_error(y_test, y_pred)\n",
    "    mse=mean_squared_error(y_test, y_pred)\n",
    "    r2=r2_score(y_test, y_pred)\n",
    "\n",
    "    print(\"Linear Regression Model Results: \")\n",
    "    print(f\"Mean Absolute Error: {mae:.2f}\")\n",
    "    print(f\"Mean Squared Error: {mse:.2f}\")\n",
    "    print(f\"R-Squared: {r2:.3f}\")"
   ]
  },
  {
   "cell_type": "code",
   "execution_count": 11,
   "id": "dc3eb073-1237-4def-bc98-f664438f8e24",
   "metadata": {},
   "outputs": [
    {
     "name": "stdout",
     "output_type": "stream",
     "text": [
      "\n",
      "Performance of the Two-Model Approach :\n",
      "Mean Absolute Error : 567.58\n",
      "Mean Squared Error : 633101.86\n",
      "R-squared : 0.8421\n"
     ]
    }
   ],
   "source": [
    "#building model for two seperate Linear Reg Models \n",
    "if not df_processed.empty:\n",
    "    y_casual = df['casual']\n",
    "    y_registered = df['registered']\n",
    "\n",
    "    X_train_b, X_test_b, y_casual_train, y_casual_test, y_reg_train, y_reg_test,y_total_train, y_total_test = \\\n",
    "        train_test_split(X_scaled, y_casual, y_registered, df['cnt'], test_size=0.2, random_state=42)\n",
    "    \n",
    "    #predict casual users \n",
    "    model_casual = LinearRegression()\n",
    "    model_casual.fit(X_train_b, y_casual_train)\n",
    "    y_pred_casual = model_casual.predict(X_test_b)\n",
    "\n",
    "    #predict registered users\n",
    "    model_registered = LinearRegression()\n",
    "    model_registered.fit(X_train_b, y_reg_train)\n",
    "    y_pred_registered = model_registered.predict(X_test_b)\n",
    "    y_pred_total = np.maximum(0, y_pred_casual) + np.maximum(0, y_pred_registered)\n",
    "\n",
    "    #combining the predictions and finding the final results \n",
    "    mae_combined = mean_absolute_error(y_total_test, y_pred_total)\n",
    "    mse_combined = mean_squared_error(y_total_test, y_pred_total)\n",
    "    r2_combined = r2_score(y_total_test, y_pred_total)\n",
    "\n",
    "    print(\"\\nPerformance of the Two-Model Approach :\")\n",
    "    print(f\"Mean Absolute Error : {mae_combined:.2f}\")\n",
    "    print(f\"Mean Squared Error : {mse_combined:.2f}\")\n",
    "    print(f\"R-squared : {r2_combined:.4f}\")"
   ]
  },
  {
   "cell_type": "code",
   "execution_count": null,
   "id": "1a2ac42c-f19a-4582-bcc5-f65e156eb603",
   "metadata": {},
   "outputs": [],
   "source": []
  }
 ],
 "metadata": {
  "kernelspec": {
   "display_name": "Python 3 (ipykernel)",
   "language": "python",
   "name": "python3"
  },
  "language_info": {
   "codemirror_mode": {
    "name": "ipython",
    "version": 3
   },
   "file_extension": ".py",
   "mimetype": "text/x-python",
   "name": "python",
   "nbconvert_exporter": "python",
   "pygments_lexer": "ipython3",
   "version": "3.12.4"
  }
 },
 "nbformat": 4,
 "nbformat_minor": 5
}
